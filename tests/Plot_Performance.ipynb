{
 "cells": [
  {
   "cell_type": "markdown",
   "metadata": {},
   "source": [
    "# Plotting the Performance Test Results\n",
    "\n",
    "We use this notebook to plot the results of the \"Test_Performance\" play, that collects results for different Jetson Configurations.\n"
   ]
  },
  {
   "cell_type": "code",
   "execution_count": 1,
   "metadata": {},
   "outputs": [],
   "source": [
    "import matplotlib.pyplot as plt"
   ]
  },
  {
   "cell_type": "markdown",
   "metadata": {},
   "source": [
    "## Plotting the results of the Power Mode Test"
   ]
  },
  {
   "cell_type": "code",
   "execution_count": null,
   "metadata": {},
   "outputs": [],
   "source": [
    "# Define the folder containing the log files\n",
    "folder_path = \"/home/louduser/LoudVA/measurements/LoudJetson0/home/iloudaros/LoudVA/measurements\"\n",
    "\n",
    "# Define lists to store data\n",
    "timestamps = []  # Optional: If timestamps are present in the logs\n",
    "data = {}  # Dictionary to store data for each file\n",
    "\n",
    "# Loop through files in the folder\n",
    "for filename in os.listdir(folder_path):\n",
    "  if filename.startswith(\"power_measurement_\"):\n",
    "    # Extract ID from filename\n",
    "    file_id = filename.split(\"_\")[2]\n",
    "\n",
    "    # Open the file\n",
    "    with open(os.path.join(folder_path, filename), \"r\") as file:\n",
    "      # Optional: Extract timestamps if present\n",
    "      # timestamps.append([float(line.split()[0]) for line in file])  # Modify if timestamps are formatted differently\n",
    "\n",
    "      # Read data from the file\n",
    "      data[file_id] = [float(line.strip()) for line in file]\n",
    "\n",
    "# Prepare the plot\n",
    "plt.figure(figsize=(10, 6))  # Adjust figure size as needed\n",
    "\n",
    "# Loop through data and plot each file\n",
    "for file_id, values in data.items():\n",
    "  plt.plot(values, label=f\"File: {file_id}\")\n",
    "\n",
    "# Customize the plot\n",
    "plt.xlabel(\"Line Number\")\n",
    "plt.ylabel(\"Power Measurement\")\n",
    "plt.title(\"Power Measurements from Log Files\")\n",
    "plt.legend()\n",
    "plt.grid(True)\n",
    "\n",
    "# Show the plot\n",
    "plt.show()\n"
   ]
  },
  {
   "cell_type": "markdown",
   "metadata": {},
   "source": [
    "## Plotting the results of the GPU Frequency Test"
   ]
  }
 ],
 "metadata": {
  "kernelspec": {
   "display_name": "Python 3",
   "language": "python",
   "name": "python3"
  },
  "language_info": {
   "codemirror_mode": {
    "name": "ipython",
    "version": 3
   },
   "file_extension": ".py",
   "mimetype": "text/x-python",
   "name": "python",
   "nbconvert_exporter": "python",
   "pygments_lexer": "ipython3",
   "version": "3.8.10"
  }
 },
 "nbformat": 4,
 "nbformat_minor": 2
}
