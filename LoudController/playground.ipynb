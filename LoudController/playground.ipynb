{
 "cells": [
  {
   "cell_type": "code",
   "execution_count": 4,
   "metadata": {},
   "outputs": [
    {
     "name": "stdout",
     "output_type": "stream",
     "text": [
      "0\n",
      "I am a function\n",
      "1\n",
      "1\n"
     ]
    }
   ],
   "source": [
    "turn = 0\n",
    "\n",
    "def get_turn(turn):\n",
    "    turn = turn + 1\n",
    "    if turn ==3:\n",
    "        turn = 0\n",
    "    return turn\n",
    "\n",
    "\n",
    "def iamafunction():\n",
    "    global turn\n",
    "    print(\"I am a function\")\n",
    "    turn = get_turn(turn)\n",
    "    print(turn)\n",
    "\n",
    "print(turn)\n",
    "iamafunction()\n",
    "print(turn)"
   ]
  }
 ],
 "metadata": {
  "kernelspec": {
   "display_name": ".venv",
   "language": "python",
   "name": "python3"
  },
  "language_info": {
   "codemirror_mode": {
    "name": "ipython",
    "version": 3
   },
   "file_extension": ".py",
   "mimetype": "text/x-python",
   "name": "python",
   "nbconvert_exporter": "python",
   "pygments_lexer": "ipython3",
   "version": "3.9.4"
  }
 },
 "nbformat": 4,
 "nbformat_minor": 2
}
